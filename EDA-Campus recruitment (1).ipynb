{
 "cells": [
  {
   "cell_type": "code",
   "execution_count": 77,
   "id": "76f71b25",
   "metadata": {},
   "outputs": [],
   "source": [
    "import pandas as pd\n",
    "import numpy as np\n",
    "import matplotlib.pyplot as plt\n",
    "import seaborn as sns\n",
    "from scipy import stats"
   ]
  },
  {
   "cell_type": "code",
   "execution_count": 78,
   "id": "998a1e39",
   "metadata": {},
   "outputs": [
    {
     "data": {
      "text/html": [
       "<div>\n",
       "<style scoped>\n",
       "    .dataframe tbody tr th:only-of-type {\n",
       "        vertical-align: middle;\n",
       "    }\n",
       "\n",
       "    .dataframe tbody tr th {\n",
       "        vertical-align: top;\n",
       "    }\n",
       "\n",
       "    .dataframe thead th {\n",
       "        text-align: right;\n",
       "    }\n",
       "</style>\n",
       "<table border=\"1\" class=\"dataframe\">\n",
       "  <thead>\n",
       "    <tr style=\"text-align: right;\">\n",
       "      <th></th>\n",
       "      <th>sl_no</th>\n",
       "      <th>gender</th>\n",
       "      <th>ssc_p</th>\n",
       "      <th>ssc_b</th>\n",
       "      <th>hsc_p</th>\n",
       "      <th>hsc_b</th>\n",
       "      <th>hsc_s</th>\n",
       "      <th>degree_p</th>\n",
       "      <th>degree_t</th>\n",
       "      <th>workex</th>\n",
       "      <th>etest_p</th>\n",
       "      <th>specialisation</th>\n",
       "      <th>mba_p</th>\n",
       "      <th>status</th>\n",
       "      <th>salary</th>\n",
       "    </tr>\n",
       "  </thead>\n",
       "  <tbody>\n",
       "    <tr>\n",
       "      <th>0</th>\n",
       "      <td>1</td>\n",
       "      <td>M</td>\n",
       "      <td>67.00</td>\n",
       "      <td>Others</td>\n",
       "      <td>91.00</td>\n",
       "      <td>Others</td>\n",
       "      <td>Commerce</td>\n",
       "      <td>58.00</td>\n",
       "      <td>Sci&amp;Tech</td>\n",
       "      <td>No</td>\n",
       "      <td>55.0</td>\n",
       "      <td>Mkt&amp;HR</td>\n",
       "      <td>58.80</td>\n",
       "      <td>Placed</td>\n",
       "      <td>270000.0</td>\n",
       "    </tr>\n",
       "    <tr>\n",
       "      <th>1</th>\n",
       "      <td>2</td>\n",
       "      <td>M</td>\n",
       "      <td>79.33</td>\n",
       "      <td>Central</td>\n",
       "      <td>78.33</td>\n",
       "      <td>Others</td>\n",
       "      <td>Science</td>\n",
       "      <td>77.48</td>\n",
       "      <td>Sci&amp;Tech</td>\n",
       "      <td>Yes</td>\n",
       "      <td>86.5</td>\n",
       "      <td>Mkt&amp;Fin</td>\n",
       "      <td>66.28</td>\n",
       "      <td>Placed</td>\n",
       "      <td>200000.0</td>\n",
       "    </tr>\n",
       "    <tr>\n",
       "      <th>2</th>\n",
       "      <td>3</td>\n",
       "      <td>M</td>\n",
       "      <td>65.00</td>\n",
       "      <td>Central</td>\n",
       "      <td>68.00</td>\n",
       "      <td>Central</td>\n",
       "      <td>Arts</td>\n",
       "      <td>64.00</td>\n",
       "      <td>Comm&amp;Mgmt</td>\n",
       "      <td>No</td>\n",
       "      <td>75.0</td>\n",
       "      <td>Mkt&amp;Fin</td>\n",
       "      <td>57.80</td>\n",
       "      <td>Placed</td>\n",
       "      <td>250000.0</td>\n",
       "    </tr>\n",
       "    <tr>\n",
       "      <th>3</th>\n",
       "      <td>4</td>\n",
       "      <td>M</td>\n",
       "      <td>56.00</td>\n",
       "      <td>Central</td>\n",
       "      <td>52.00</td>\n",
       "      <td>Central</td>\n",
       "      <td>Science</td>\n",
       "      <td>52.00</td>\n",
       "      <td>Sci&amp;Tech</td>\n",
       "      <td>No</td>\n",
       "      <td>66.0</td>\n",
       "      <td>Mkt&amp;HR</td>\n",
       "      <td>59.43</td>\n",
       "      <td>Not Placed</td>\n",
       "      <td>NaN</td>\n",
       "    </tr>\n",
       "    <tr>\n",
       "      <th>4</th>\n",
       "      <td>5</td>\n",
       "      <td>M</td>\n",
       "      <td>85.80</td>\n",
       "      <td>Central</td>\n",
       "      <td>73.60</td>\n",
       "      <td>Central</td>\n",
       "      <td>Commerce</td>\n",
       "      <td>73.30</td>\n",
       "      <td>Comm&amp;Mgmt</td>\n",
       "      <td>No</td>\n",
       "      <td>96.8</td>\n",
       "      <td>Mkt&amp;Fin</td>\n",
       "      <td>55.50</td>\n",
       "      <td>Placed</td>\n",
       "      <td>425000.0</td>\n",
       "    </tr>\n",
       "  </tbody>\n",
       "</table>\n",
       "</div>"
      ],
      "text/plain": [
       "   sl_no gender  ssc_p    ssc_b  hsc_p    hsc_b     hsc_s  degree_p  \\\n",
       "0      1      M  67.00   Others  91.00   Others  Commerce     58.00   \n",
       "1      2      M  79.33  Central  78.33   Others   Science     77.48   \n",
       "2      3      M  65.00  Central  68.00  Central      Arts     64.00   \n",
       "3      4      M  56.00  Central  52.00  Central   Science     52.00   \n",
       "4      5      M  85.80  Central  73.60  Central  Commerce     73.30   \n",
       "\n",
       "    degree_t workex  etest_p specialisation  mba_p      status    salary  \n",
       "0   Sci&Tech     No     55.0         Mkt&HR  58.80      Placed  270000.0  \n",
       "1   Sci&Tech    Yes     86.5        Mkt&Fin  66.28      Placed  200000.0  \n",
       "2  Comm&Mgmt     No     75.0        Mkt&Fin  57.80      Placed  250000.0  \n",
       "3   Sci&Tech     No     66.0         Mkt&HR  59.43  Not Placed       NaN  \n",
       "4  Comm&Mgmt     No     96.8        Mkt&Fin  55.50      Placed  425000.0  "
      ]
     },
     "execution_count": 78,
     "metadata": {},
     "output_type": "execute_result"
    }
   ],
   "source": [
    "data=pd.read_csv('placement.csv')\n",
    "data.head()"
   ]
  },
  {
   "cell_type": "code",
   "execution_count": 79,
   "id": "aa4d640c",
   "metadata": {},
   "outputs": [
    {
     "data": {
      "text/plain": [
       "(215, 15)"
      ]
     },
     "execution_count": 79,
     "metadata": {},
     "output_type": "execute_result"
    }
   ],
   "source": [
    "data.shape"
   ]
  },
  {
   "cell_type": "raw",
   "id": "7e773ae4",
   "metadata": {},
   "source": [
    "What does the rows and columns represent in this data?\n",
    "Are there any null values in this data? reason for it being null?\n",
    "what are assumptions from data?"
   ]
  },
  {
   "cell_type": "raw",
   "id": "9589a525",
   "metadata": {},
   "source": [
    "each row in this data represents a candidate who is sitting for campus placements\n",
    "we need study factors that helped candidate to get placed or recieve a higher salary"
   ]
  },
  {
   "cell_type": "code",
   "execution_count": 80,
   "id": "54e3b0f7",
   "metadata": {},
   "outputs": [
    {
     "data": {
      "text/plain": [
       "Index(['sl_no', 'gender', 'ssc_p', 'ssc_b', 'hsc_p', 'hsc_b', 'hsc_s',\n",
       "       'degree_p', 'degree_t', 'workex', 'etest_p', 'specialisation', 'mba_p',\n",
       "       'status', 'salary'],\n",
       "      dtype='object')"
      ]
     },
     "execution_count": 80,
     "metadata": {},
     "output_type": "execute_result"
    }
   ],
   "source": [
    "data.columns"
   ]
  },
  {
   "cell_type": "raw",
   "id": "e87812d5",
   "metadata": {},
   "source": [
    "ssc_p- percentage of marks recieved in 10th class\n",
    "ssc_b- Board of Education- Central/ Others\n",
    "hsc_p- Higher Secondary Education percentage- 12th Grade\n",
    "hsc_b- Board of Education- Central/ Others\n",
    "hsc_s-Specialization in Higher Secondary Education\n",
    "degree_p- Degree percentage\n",
    "degree_t- Under Graduation(Degree type)- Field of degree education\n",
    "workex- Work experience\n",
    "etest_p- Employability test percentage ( conducted by college)\n",
    "specialisation- Post Graduation(MBA)- Specialization\n",
    "mba_p- MBA Percentage\n",
    "status- palcement status\n",
    "salary- salary offered "
   ]
  },
  {
   "cell_type": "code",
   "execution_count": 81,
   "id": "82903c37",
   "metadata": {},
   "outputs": [
    {
     "data": {
      "text/plain": [
       "sl_no              0\n",
       "gender             0\n",
       "ssc_p              0\n",
       "ssc_b              0\n",
       "hsc_p              0\n",
       "hsc_b              0\n",
       "hsc_s              0\n",
       "degree_p           0\n",
       "degree_t           0\n",
       "workex             0\n",
       "etest_p            0\n",
       "specialisation     0\n",
       "mba_p              0\n",
       "status             0\n",
       "salary            67\n",
       "dtype: int64"
      ]
     },
     "execution_count": 81,
     "metadata": {},
     "output_type": "execute_result"
    }
   ],
   "source": [
    "data.isna().sum()"
   ]
  },
  {
   "cell_type": "code",
   "execution_count": 82,
   "id": "0f0bc4c6",
   "metadata": {},
   "outputs": [
    {
     "data": {
      "text/plain": [
       "3      Not Placed\n",
       "5      Not Placed\n",
       "6      Not Placed\n",
       "9      Not Placed\n",
       "12     Not Placed\n",
       "          ...    \n",
       "198    Not Placed\n",
       "201    Not Placed\n",
       "206    Not Placed\n",
       "208    Not Placed\n",
       "214    Not Placed\n",
       "Name: status, Length: 67, dtype: object"
      ]
     },
     "execution_count": 82,
     "metadata": {},
     "output_type": "execute_result"
    }
   ],
   "source": [
    "data[data['salary'].isna()].status"
   ]
  },
  {
   "cell_type": "code",
   "execution_count": 83,
   "id": "cbb7cd85",
   "metadata": {},
   "outputs": [],
   "source": [
    "#as a candidate is not placed so his salary is null \n",
    "#here we can replace null values by na"
   ]
  },
  {
   "cell_type": "code",
   "execution_count": 84,
   "id": "fa7ca863",
   "metadata": {},
   "outputs": [
    {
     "data": {
      "text/html": [
       "<div>\n",
       "<style scoped>\n",
       "    .dataframe tbody tr th:only-of-type {\n",
       "        vertical-align: middle;\n",
       "    }\n",
       "\n",
       "    .dataframe tbody tr th {\n",
       "        vertical-align: top;\n",
       "    }\n",
       "\n",
       "    .dataframe thead th {\n",
       "        text-align: right;\n",
       "    }\n",
       "</style>\n",
       "<table border=\"1\" class=\"dataframe\">\n",
       "  <thead>\n",
       "    <tr style=\"text-align: right;\">\n",
       "      <th></th>\n",
       "      <th>sl_no</th>\n",
       "      <th>ssc_p</th>\n",
       "      <th>hsc_p</th>\n",
       "      <th>degree_p</th>\n",
       "      <th>etest_p</th>\n",
       "      <th>mba_p</th>\n",
       "      <th>salary</th>\n",
       "    </tr>\n",
       "  </thead>\n",
       "  <tbody>\n",
       "    <tr>\n",
       "      <th>count</th>\n",
       "      <td>215.000000</td>\n",
       "      <td>215.000000</td>\n",
       "      <td>215.000000</td>\n",
       "      <td>215.000000</td>\n",
       "      <td>215.000000</td>\n",
       "      <td>215.000000</td>\n",
       "      <td>215.000000</td>\n",
       "    </tr>\n",
       "    <tr>\n",
       "      <th>mean</th>\n",
       "      <td>108.000000</td>\n",
       "      <td>67.303395</td>\n",
       "      <td>66.333163</td>\n",
       "      <td>66.370186</td>\n",
       "      <td>72.100558</td>\n",
       "      <td>62.278186</td>\n",
       "      <td>198702.325581</td>\n",
       "    </tr>\n",
       "    <tr>\n",
       "      <th>std</th>\n",
       "      <td>62.209324</td>\n",
       "      <td>10.827205</td>\n",
       "      <td>10.897509</td>\n",
       "      <td>7.358743</td>\n",
       "      <td>13.275956</td>\n",
       "      <td>5.833385</td>\n",
       "      <td>154780.926716</td>\n",
       "    </tr>\n",
       "    <tr>\n",
       "      <th>min</th>\n",
       "      <td>1.000000</td>\n",
       "      <td>40.890000</td>\n",
       "      <td>37.000000</td>\n",
       "      <td>50.000000</td>\n",
       "      <td>50.000000</td>\n",
       "      <td>51.210000</td>\n",
       "      <td>0.000000</td>\n",
       "    </tr>\n",
       "    <tr>\n",
       "      <th>25%</th>\n",
       "      <td>54.500000</td>\n",
       "      <td>60.600000</td>\n",
       "      <td>60.900000</td>\n",
       "      <td>61.000000</td>\n",
       "      <td>60.000000</td>\n",
       "      <td>57.945000</td>\n",
       "      <td>0.000000</td>\n",
       "    </tr>\n",
       "    <tr>\n",
       "      <th>50%</th>\n",
       "      <td>108.000000</td>\n",
       "      <td>67.000000</td>\n",
       "      <td>65.000000</td>\n",
       "      <td>66.000000</td>\n",
       "      <td>71.000000</td>\n",
       "      <td>62.000000</td>\n",
       "      <td>240000.000000</td>\n",
       "    </tr>\n",
       "    <tr>\n",
       "      <th>75%</th>\n",
       "      <td>161.500000</td>\n",
       "      <td>75.700000</td>\n",
       "      <td>73.000000</td>\n",
       "      <td>72.000000</td>\n",
       "      <td>83.500000</td>\n",
       "      <td>66.255000</td>\n",
       "      <td>282500.000000</td>\n",
       "    </tr>\n",
       "    <tr>\n",
       "      <th>max</th>\n",
       "      <td>215.000000</td>\n",
       "      <td>89.400000</td>\n",
       "      <td>97.700000</td>\n",
       "      <td>91.000000</td>\n",
       "      <td>98.000000</td>\n",
       "      <td>77.890000</td>\n",
       "      <td>940000.000000</td>\n",
       "    </tr>\n",
       "  </tbody>\n",
       "</table>\n",
       "</div>"
      ],
      "text/plain": [
       "            sl_no       ssc_p       hsc_p    degree_p     etest_p       mba_p  \\\n",
       "count  215.000000  215.000000  215.000000  215.000000  215.000000  215.000000   \n",
       "mean   108.000000   67.303395   66.333163   66.370186   72.100558   62.278186   \n",
       "std     62.209324   10.827205   10.897509    7.358743   13.275956    5.833385   \n",
       "min      1.000000   40.890000   37.000000   50.000000   50.000000   51.210000   \n",
       "25%     54.500000   60.600000   60.900000   61.000000   60.000000   57.945000   \n",
       "50%    108.000000   67.000000   65.000000   66.000000   71.000000   62.000000   \n",
       "75%    161.500000   75.700000   73.000000   72.000000   83.500000   66.255000   \n",
       "max    215.000000   89.400000   97.700000   91.000000   98.000000   77.890000   \n",
       "\n",
       "              salary  \n",
       "count     215.000000  \n",
       "mean   198702.325581  \n",
       "std    154780.926716  \n",
       "min         0.000000  \n",
       "25%         0.000000  \n",
       "50%    240000.000000  \n",
       "75%    282500.000000  \n",
       "max    940000.000000  "
      ]
     },
     "execution_count": 84,
     "metadata": {},
     "output_type": "execute_result"
    }
   ],
   "source": [
    "data['salary']=data['salary'].fillna(0)\n",
    "data.describe()"
   ]
  },
  {
   "cell_type": "raw",
   "id": "bbed3785",
   "metadata": {},
   "source": [
    "salary and placement status be independent of gender\n",
    "ssc_p, hsc_p may have no imapact on salary\n",
    "degree_t, degree_p may not have much effect on placements\n",
    "workex will have impact on placements\n",
    "etest_p will have impact on placements\n",
    "speacialisation will have impact placements\n",
    "mba_p will have impact placements"
   ]
  },
  {
   "cell_type": "markdown",
   "id": "8cc7afd3",
   "metadata": {},
   "source": [
    "## Assumption-1"
   ]
  },
  {
   "cell_type": "markdown",
   "id": "07252241",
   "metadata": {},
   "source": [
    "### Salary and placement status be independent of gender"
   ]
  },
  {
   "cell_type": "code",
   "execution_count": 12,
   "id": "944c5833",
   "metadata": {},
   "outputs": [
    {
     "data": {
      "image/png": "[encoded data removed]",
      "text/plain": [
       "<Figure size 432x288 with 1 Axes>"
      ]
     },
     "metadata": {
      "needs_background": "light"
     },
     "output_type": "display_data"
    }
   ],
   "source": [
    "data.groupby('gender')['gender'].count().plot(kind='bar',rot=0)\n",
    "plt.show()"
   ]
  },
  {
   "cell_type": "code",
   "execution_count": 13,
   "id": "73e1dcf5",
   "metadata": {},
   "outputs": [],
   "source": [
    "dat=data[data.salary>0]"
   ]
  },
  {
   "cell_type": "code",
   "execution_count": 74,
   "id": "acce93e9",
   "metadata": {},
   "outputs": [
    {
     "data": {
      "text/plain": [
       "<AxesSubplot:xlabel='gender'>"
      ]
     },
     "execution_count": 74,
     "metadata": {},
     "output_type": "execute_result"
    },
    {
     "data": {
      "image/png": "[encoded data removed]",
      "text/plain": [
       "<Figure size 288x288 with 1 Axes>"
      ]
     },
     "metadata": {
      "needs_background": "light"
     },
     "output_type": "display_data"
    }
   ],
   "source": [
    "dat[['gender','salary']].groupby(['gender']).mean().plot(kind='bar', figsize=(4,4), fontsize=12,rot=45)"
   ]
  },
  {
   "cell_type": "markdown",
   "id": "3797f96e",
   "metadata": {},
   "source": [
    "#### Two sample pop t-test\n",
    "##### Ho: male & females both have equal average salary\n",
    "##### H1: male & females have different average salary"
   ]
  },
  {
   "cell_type": "code",
   "execution_count": 67,
   "id": "13a8418d",
   "metadata": {},
   "outputs": [
    {
     "data": {
      "text/html": [
       "<div>\n",
       "<style scoped>\n",
       "    .dataframe tbody tr th:only-of-type {\n",
       "        vertical-align: middle;\n",
       "    }\n",
       "\n",
       "    .dataframe tbody tr th {\n",
       "        vertical-align: top;\n",
       "    }\n",
       "\n",
       "    .dataframe thead th {\n",
       "        text-align: right;\n",
       "    }\n",
       "</style>\n",
       "<table border=\"1\" class=\"dataframe\">\n",
       "  <thead>\n",
       "    <tr style=\"text-align: right;\">\n",
       "      <th></th>\n",
       "      <th>salary</th>\n",
       "    </tr>\n",
       "    <tr>\n",
       "      <th>gender</th>\n",
       "      <th></th>\n",
       "    </tr>\n",
       "  </thead>\n",
       "  <tbody>\n",
       "    <tr>\n",
       "      <th>F</th>\n",
       "      <td>267291.666667</td>\n",
       "    </tr>\n",
       "    <tr>\n",
       "      <th>M</th>\n",
       "      <td>298910.000000</td>\n",
       "    </tr>\n",
       "  </tbody>\n",
       "</table>\n",
       "</div>"
      ],
      "text/plain": [
       "               salary\n",
       "gender               \n",
       "F       267291.666667\n",
       "M       298910.000000"
      ]
     },
     "execution_count": 67,
     "metadata": {},
     "output_type": "execute_result"
    }
   ],
   "source": [
    "#to calculate mean\n",
    "dat[['gender','salary']].groupby(['gender']).mean()"
   ]
  },
  {
   "cell_type": "code",
   "execution_count": 68,
   "id": "52efc79a",
   "metadata": {},
   "outputs": [
    {
     "data": {
      "text/html": [
       "<div>\n",
       "<style scoped>\n",
       "    .dataframe tbody tr th:only-of-type {\n",
       "        vertical-align: middle;\n",
       "    }\n",
       "\n",
       "    .dataframe tbody tr th {\n",
       "        vertical-align: top;\n",
       "    }\n",
       "\n",
       "    .dataframe thead th {\n",
       "        text-align: right;\n",
       "    }\n",
       "</style>\n",
       "<table border=\"1\" class=\"dataframe\">\n",
       "  <thead>\n",
       "    <tr style=\"text-align: right;\">\n",
       "      <th></th>\n",
       "      <th>salary</th>\n",
       "    </tr>\n",
       "    <tr>\n",
       "      <th>gender</th>\n",
       "      <th></th>\n",
       "    </tr>\n",
       "  </thead>\n",
       "  <tbody>\n",
       "    <tr>\n",
       "      <th>F</th>\n",
       "      <td>75948.178955</td>\n",
       "    </tr>\n",
       "    <tr>\n",
       "      <th>M</th>\n",
       "      <td>99514.792058</td>\n",
       "    </tr>\n",
       "  </tbody>\n",
       "</table>\n",
       "</div>"
      ],
      "text/plain": [
       "              salary\n",
       "gender              \n",
       "F       75948.178955\n",
       "M       99514.792058"
      ]
     },
     "execution_count": 68,
     "metadata": {},
     "output_type": "execute_result"
    }
   ],
   "source": [
    "#to calculate standard deviations\n",
    "dat[['gender','salary']].groupby(['gender']).std()"
   ]
  },
  {
   "cell_type": "code",
   "execution_count": 71,
   "id": "91332228",
   "metadata": {},
   "outputs": [
    {
     "data": {
      "text/plain": [
       "M    139\n",
       "F     76\n",
       "Name: gender, dtype: int64"
      ]
     },
     "execution_count": 71,
     "metadata": {},
     "output_type": "execute_result"
    }
   ],
   "source": [
    "#no of counts\n",
    "data.gender.value_counts()"
   ]
  },
  {
   "cell_type": "code",
   "execution_count": 72,
   "id": "8ee724bf",
   "metadata": {},
   "outputs": [
    {
     "data": {
      "text/plain": [
       "(1.652038878026209, 10.850553242743825)"
      ]
     },
     "execution_count": 72,
     "metadata": {},
     "output_type": "execute_result"
    }
   ],
   "source": [
    "#to calculate t_statistic\n",
    "t_stat = (298910 - 167291)/ ((75948**2)/(76) + (99514**2)/(139))**0.5\n",
    "#to calculate t_critical\n",
    "t_cr = stats.t.isf(0.05,139+76-2)\n",
    "t_cr,t_stat"
   ]
  },
  {
   "cell_type": "code",
   "execution_count": 73,
   "id": "5a7f6aa1",
   "metadata": {},
   "outputs": [
    {
     "name": "stdout",
     "output_type": "stream",
     "text": [
      "As t_statistic is greater than t_critical, we reject the null hypothesis\n",
      "Salary is dependent on Gender\n"
     ]
    }
   ],
   "source": [
    "print(\"As t_statistic is greater than t_critical, we reject the null hypothesis\")\n",
    "print(\"Salary is dependent on Gender\")"
   ]
  },
  {
   "cell_type": "markdown",
   "id": "4d28391a",
   "metadata": {},
   "source": [
    "### Chi-square test for independence\n",
    "ho: placement status is independent of gender of candidate\n",
    "\n",
    "h1: placement status is dependent of gender of candidate"
   ]
  },
  {
   "cell_type": "code",
   "execution_count": 58,
   "id": "dacf1dad",
   "metadata": {},
   "outputs": [
    {
     "data": {
      "text/html": [
       "<div>\n",
       "<style scoped>\n",
       "    .dataframe tbody tr th:only-of-type {\n",
       "        vertical-align: middle;\n",
       "    }\n",
       "\n",
       "    .dataframe tbody tr th {\n",
       "        vertical-align: top;\n",
       "    }\n",
       "\n",
       "    .dataframe thead th {\n",
       "        text-align: right;\n",
       "    }\n",
       "</style>\n",
       "<table border=\"1\" class=\"dataframe\">\n",
       "  <thead>\n",
       "    <tr style=\"text-align: right;\">\n",
       "      <th>status</th>\n",
       "      <th>Not Placed</th>\n",
       "      <th>Placed</th>\n",
       "    </tr>\n",
       "    <tr>\n",
       "      <th>gender</th>\n",
       "      <th></th>\n",
       "      <th></th>\n",
       "    </tr>\n",
       "  </thead>\n",
       "  <tbody>\n",
       "    <tr>\n",
       "      <th>F</th>\n",
       "      <td>28</td>\n",
       "      <td>48</td>\n",
       "    </tr>\n",
       "    <tr>\n",
       "      <th>M</th>\n",
       "      <td>39</td>\n",
       "      <td>100</td>\n",
       "    </tr>\n",
       "  </tbody>\n",
       "</table>\n",
       "</div>"
      ],
      "text/plain": [
       "status  Not Placed  Placed\n",
       "gender                    \n",
       "F               28      48\n",
       "M               39     100"
      ]
     },
     "execution_count": 58,
     "metadata": {},
     "output_type": "execute_result"
    }
   ],
   "source": [
    "pd.crosstab(data.gender,data.status)"
   ]
  },
  {
   "cell_type": "code",
   "execution_count": 65,
   "id": "07a01711",
   "metadata": {},
   "outputs": [
    {
     "name": "stdout",
     "output_type": "stream",
     "text": [
      "Chi_statistic value:  82.81579409409352\n",
      "Chi_critical value:  3.8414588206941285\n",
      "Placement status is not independent of Gender\n"
     ]
    }
   ],
   "source": [
    "\n",
    "F= [28,48]\n",
    "M= [39,100]\n",
    "F_Total= 28+48\n",
    "M_Total= 39+100\n",
    "NP_Total = 28+39\n",
    "P_Total = 48+100\n",
    "Total = NP_Total + P_Total\n",
    "\n",
    "#Observed & Expected values\n",
    "Observed = NP_Ob + P_Ob\n",
    "Expected = [NP_Total*F_Total/Total,P_Total*F_Total/Total,NP_Total*M_Total/Total,P_Total*M_Total/Total]\n",
    "\n",
    "#Calculating Chi_sq_statistic\n",
    "chi_stat=0\n",
    "for i in range(len(Observed)):\n",
    "    a = (Expected[i]-Observed[i])**2/Expected[i]\n",
    "    chi_stat+=a\n",
    "\n",
    "#Calculating Chi_sq_critical\n",
    "alpha = 0.05\n",
    "n = 2\n",
    "c = 2\n",
    "chi_critical = stats.chi2.isf(alpha,df=(n-1)*(c-1))\n",
    "\n",
    "print(\"Chi_statistic value: \", chi_stat)\n",
    "print(\"Chi_critical value: \", chi_critical)\n",
    "\n",
    "if chi_stat > chi_critical:\n",
    "    print(\"Placement status is not independent of Gender\")\n",
    "else:\n",
    "        print(\"Placement status is independent of Gender\")"
   ]
  },
  {
   "cell_type": "code",
   "execution_count": null,
   "id": "67171c30",
   "metadata": {},
   "outputs": [],
   "source": []
  },
  {
   "cell_type": "markdown",
   "id": "66a6904d",
   "metadata": {},
   "source": [
    "# Assumption-2"
   ]
  },
  {
   "cell_type": "markdown",
   "id": "618a27cf",
   "metadata": {},
   "source": [
    "## ssc_p, hsc_p may have no impact on salary"
   ]
  },
  {
   "cell_type": "code",
   "execution_count": 21,
   "id": "25452957",
   "metadata": {},
   "outputs": [
    {
     "data": {
      "text/plain": [
       "<matplotlib.collections.PathCollection at 0x2c9cb061e50>"
      ]
     },
     "execution_count": 21,
     "metadata": {},
     "output_type": "execute_result"
    },
    {
     "data": {
      "image/png": "[encoded data removed]",
      "text/plain": [
       "<Figure size 432x288 with 1 Axes>"
      ]
     },
     "metadata": {
      "needs_background": "light"
     },
     "output_type": "display_data"
    }
   ],
   "source": [
    "plt.scatter(data.ssc_p,data.salary)"
   ]
  },
  {
   "cell_type": "code",
   "execution_count": 22,
   "id": "e46ff323",
   "metadata": {},
   "outputs": [
    {
     "data": {
      "text/plain": [
       "<matplotlib.collections.PathCollection at 0x2c9cb21acd0>"
      ]
     },
     "execution_count": 22,
     "metadata": {},
     "output_type": "execute_result"
    },
    {
     "data": {
      "image/png": "[encoded data removed]",
      "text/plain": [
       "<Figure size 432x288 with 1 Axes>"
      ]
     },
     "metadata": {
      "needs_background": "light"
     },
     "output_type": "display_data"
    }
   ],
   "source": [
    "plt.scatter(data.hsc_p,data.salary)"
   ]
  },
  {
   "cell_type": "raw",
   "id": "836b9a74",
   "metadata": {},
   "source": [
    "# As we can clearly see salary have no clear relation with 10th or 12th marks\n",
    "# but it is not true with placement status as mostly candidates who recieved less marks(<50%) are unplaced. It might be possible companies have a min marks criteria in 10th and 12th.\n",
    "# candidates recieving more than 50% marks are also unplaced in companies. Above the cutoff marks placement status is independent of marks in 10th and 12th"
   ]
  },
  {
   "cell_type": "markdown",
   "id": "43cb2b98",
   "metadata": {},
   "source": [
    "# Assumption-3"
   ]
  },
  {
   "cell_type": "markdown",
   "id": "f846ca72",
   "metadata": {},
   "source": [
    "## Degree_t, Degree_p may not have much effect on placements"
   ]
  },
  {
   "cell_type": "code",
   "execution_count": 23,
   "id": "a175102c",
   "metadata": {},
   "outputs": [
    {
     "data": {
      "text/plain": [
       "Comm&Mgmt    145\n",
       "Sci&Tech      59\n",
       "Others        11\n",
       "Name: degree_t, dtype: int64"
      ]
     },
     "execution_count": 23,
     "metadata": {},
     "output_type": "execute_result"
    }
   ],
   "source": [
    "data['degree_t'].value_counts()"
   ]
  },
  {
   "cell_type": "code",
   "execution_count": 24,
   "id": "fb67a57e",
   "metadata": {},
   "outputs": [
    {
     "data": {
      "text/html": [
       "<div>\n",
       "<style scoped>\n",
       "    .dataframe tbody tr th:only-of-type {\n",
       "        vertical-align: middle;\n",
       "    }\n",
       "\n",
       "    .dataframe tbody tr th {\n",
       "        vertical-align: top;\n",
       "    }\n",
       "\n",
       "    .dataframe thead th {\n",
       "        text-align: right;\n",
       "    }\n",
       "</style>\n",
       "<table border=\"1\" class=\"dataframe\">\n",
       "  <thead>\n",
       "    <tr style=\"text-align: right;\">\n",
       "      <th>degree_t</th>\n",
       "      <th>Comm&amp;Mgmt</th>\n",
       "      <th>Others</th>\n",
       "      <th>Sci&amp;Tech</th>\n",
       "    </tr>\n",
       "    <tr>\n",
       "      <th>status</th>\n",
       "      <th></th>\n",
       "      <th></th>\n",
       "      <th></th>\n",
       "    </tr>\n",
       "  </thead>\n",
       "  <tbody>\n",
       "    <tr>\n",
       "      <th>Not Placed</th>\n",
       "      <td>43</td>\n",
       "      <td>6</td>\n",
       "      <td>18</td>\n",
       "    </tr>\n",
       "    <tr>\n",
       "      <th>Placed</th>\n",
       "      <td>102</td>\n",
       "      <td>5</td>\n",
       "      <td>41</td>\n",
       "    </tr>\n",
       "  </tbody>\n",
       "</table>\n",
       "</div>"
      ],
      "text/plain": [
       "degree_t    Comm&Mgmt  Others  Sci&Tech\n",
       "status                                 \n",
       "Not Placed         43       6        18\n",
       "Placed            102       5        41"
      ]
     },
     "execution_count": 24,
     "metadata": {},
     "output_type": "execute_result"
    }
   ],
   "source": [
    "pd.crosstab(data.status,data.degree_t)"
   ]
  },
  {
   "cell_type": "raw",
   "id": "f83e5ba8",
   "metadata": {},
   "source": [
    "As we can see (102/145), (41/59) is almost equal so placement_status is independent of degree_t"
   ]
  },
  {
   "cell_type": "code",
   "execution_count": 25,
   "id": "10ebf301",
   "metadata": {},
   "outputs": [
    {
     "data": {
      "text/html": [
       "<div>\n",
       "<style scoped>\n",
       "    .dataframe tbody tr th:only-of-type {\n",
       "        vertical-align: middle;\n",
       "    }\n",
       "\n",
       "    .dataframe tbody tr th {\n",
       "        vertical-align: top;\n",
       "    }\n",
       "\n",
       "    .dataframe thead th {\n",
       "        text-align: right;\n",
       "    }\n",
       "</style>\n",
       "<table border=\"1\" class=\"dataframe\">\n",
       "  <thead>\n",
       "    <tr style=\"text-align: right;\">\n",
       "      <th></th>\n",
       "      <th>salary</th>\n",
       "    </tr>\n",
       "    <tr>\n",
       "      <th>degree_t</th>\n",
       "      <th></th>\n",
       "    </tr>\n",
       "  </thead>\n",
       "  <tbody>\n",
       "    <tr>\n",
       "      <th>Comm&amp;Mgmt</th>\n",
       "      <td>278627.450980</td>\n",
       "    </tr>\n",
       "    <tr>\n",
       "      <th>Others</th>\n",
       "      <td>280400.000000</td>\n",
       "    </tr>\n",
       "    <tr>\n",
       "      <th>Sci&amp;Tech</th>\n",
       "      <td>314609.756098</td>\n",
       "    </tr>\n",
       "  </tbody>\n",
       "</table>\n",
       "</div>"
      ],
      "text/plain": [
       "                  salary\n",
       "degree_t                \n",
       "Comm&Mgmt  278627.450980\n",
       "Others     280400.000000\n",
       "Sci&Tech   314609.756098"
      ]
     },
     "execution_count": 25,
     "metadata": {},
     "output_type": "execute_result"
    }
   ],
   "source": [
    "dat[['degree_t','salary']].groupby(['degree_t']).mean()"
   ]
  },
  {
   "cell_type": "raw",
   "id": "310f756a",
   "metadata": {},
   "source": [
    "here we will check if different degree_t have means which are signifanctly different or difference in their means is not just by chance  \n",
    "for that we will do hypothesis testing of mean diff of two independent populations\n",
    "ho: Diff in both pop means is 0\n",
    "h1: Diff in both means is not 0"
   ]
  },
  {
   "cell_type": "code",
   "execution_count": 30,
   "id": "c7dfb1c8",
   "metadata": {},
   "outputs": [],
   "source": [
    "dat1=dat[dat.degree_t=='Sci&Tech']\n",
    "dat2=dat[dat.degree_t!='Sci&Tech']"
   ]
  },
  {
   "cell_type": "code",
   "execution_count": 31,
   "id": "42a82f4c",
   "metadata": {},
   "outputs": [],
   "source": [
    "num=dat1['salary'].mean()-dat2['salary'].mean()\n",
    "den=np.var(dat1['salary'])/len(dat1)+np.var(dat2['salary'])/len(dat2)\n",
    "t_stat=num/den**0.5"
   ]
  },
  {
   "cell_type": "code",
   "execution_count": 32,
   "id": "46d7d182",
   "metadata": {},
   "outputs": [
    {
     "data": {
      "text/plain": [
       "(2.0322380676543066, 1.652038878026209)"
      ]
     },
     "execution_count": 32,
     "metadata": {},
     "output_type": "execute_result"
    }
   ],
   "source": [
    "t_stat,stats.t.isf(0.05,df=213)"
   ]
  },
  {
   "cell_type": "raw",
   "id": "f027322e",
   "metadata": {},
   "source": [
    "As we can see our mean salary for candidates with sci&tech and those not in sci&tech is significantly different\n",
    "so salary is dependednt on candidate's Under Graduation(Degree type)"
   ]
  },
  {
   "cell_type": "markdown",
   "id": "af7b4f5c",
   "metadata": {},
   "source": [
    "# Assumption-4"
   ]
  },
  {
   "cell_type": "markdown",
   "id": "8aecca27",
   "metadata": {},
   "source": [
    "## Workex will have impact on salary"
   ]
  },
  {
   "cell_type": "code",
   "execution_count": 47,
   "id": "677113f7",
   "metadata": {},
   "outputs": [
    {
     "data": {
      "text/plain": [
       "<AxesSubplot:xlabel='workex'>"
      ]
     },
     "execution_count": 47,
     "metadata": {},
     "output_type": "execute_result"
    },
    {
     "data": {
      "image/png": "[encoded data removed]",
      "text/plain": [
       "<Figure size 288x288 with 1 Axes>"
      ]
     },
     "metadata": {
      "needs_background": "light"
     },
     "output_type": "display_data"
    }
   ],
   "source": [
    "dat1[['salary','workex']].groupby(['workex']).mean().plot(kind='bar', figsize=(4,4), fontsize=12,rot=45)"
   ]
  },
  {
   "cell_type": "code",
   "execution_count": 38,
   "id": "90fb738f",
   "metadata": {},
   "outputs": [
    {
     "data": {
      "text/plain": [
       "(               salary\n",
       " workex               \n",
       " No      277523.809524\n",
       " Yes     303265.625000,\n",
       "                salary\n",
       " workex               \n",
       " No       61643.255856\n",
       " Yes     122440.817215)"
      ]
     },
     "execution_count": 38,
     "metadata": {},
     "output_type": "execute_result"
    }
   ],
   "source": [
    "dat[['workex','salary']].groupby(['workex']).mean(),dat[['workex','salary']].groupby(['workex']).std()"
   ]
  },
  {
   "cell_type": "code",
   "execution_count": 39,
   "id": "785aace5",
   "metadata": {},
   "outputs": [
    {
     "data": {
      "text/plain": [
       "No     84\n",
       "Yes    64\n",
       "Name: workex, dtype: int64"
      ]
     },
     "execution_count": 39,
     "metadata": {},
     "output_type": "execute_result"
    }
   ],
   "source": [
    "dat.workex.value_counts()"
   ]
  },
  {
   "cell_type": "code",
   "execution_count": 46,
   "id": "7c463507",
   "metadata": {},
   "outputs": [
    {
     "data": {
      "text/plain": [
       "(1.9763456545827007, 1.5398107537547994)"
      ]
     },
     "execution_count": 46,
     "metadata": {},
     "output_type": "execute_result"
    }
   ],
   "source": [
    "t_stat = (-277523 + 303265)/ ((61643**2)/(84) + (122440**2)/(64))**0.5\n",
    "\n",
    "t_cr = stats.t.isf(0.025,84+64-2)\n",
    "t_cr,t_stat"
   ]
  },
  {
   "cell_type": "code",
   "execution_count": 85,
   "id": "94bb5553",
   "metadata": {},
   "outputs": [
    {
     "name": "stdout",
     "output_type": "stream",
     "text": [
      "Here t_stat is less than t_critical & hence i failed to reject the null hypothesis\n",
      "Salary is independent of Workex\n"
     ]
    }
   ],
   "source": [
    "print(\"Here t_stat is less than t_critical & hence i failed to reject the null hypothesis\")\n",
    "print(\"Salary is independent of Workex\")"
   ]
  },
  {
   "cell_type": "markdown",
   "id": "f93f3a75",
   "metadata": {},
   "source": [
    "# Assumption-5"
   ]
  },
  {
   "cell_type": "markdown",
   "id": "86e20e72",
   "metadata": {},
   "source": [
    "## Etest_p will have impact placements status as well as salary"
   ]
  },
  {
   "cell_type": "code",
   "execution_count": 58,
   "id": "5cfc4cc5",
   "metadata": {},
   "outputs": [
    {
     "data": {
      "image/png": "[encoded data removed]",
      "text/plain": [
       "<Figure size 288x288 with 1 Axes>"
      ]
     },
     "metadata": {
      "needs_background": "light"
     },
     "output_type": "display_data"
    }
   ],
   "source": [
    "# Firstly we will study the distribution of etest_p\n",
    "dat['etest_p'].hist(bins = 30, figsize= (4, 4))\n",
    "plt.show()"
   ]
  },
  {
   "cell_type": "code",
   "execution_count": 55,
   "id": "4f177532",
   "metadata": {},
   "outputs": [
    {
     "data": {
      "text/plain": [
       "<AxesSubplot:xlabel='status'>"
      ]
     },
     "execution_count": 55,
     "metadata": {},
     "output_type": "execute_result"
    },
    {
     "data": {
      "image/png": "[encoded data removed]",
      "text/plain": [
       "<Figure size 288x288 with 1 Axes>"
      ]
     },
     "metadata": {
      "needs_background": "light"
     },
     "output_type": "display_data"
    }
   ],
   "source": [
    "# comparing means of placed and non placed candidates to study \n",
    "#if there is impact of etest marks on placement status \n",
    "data[['etest_p','status']].groupby(['status']).mean().plot(kind='bar', figsize=(4,4), fontsize=12,rot=45)"
   ]
  },
  {
   "cell_type": "code",
   "execution_count": 57,
   "id": "ef569f19",
   "metadata": {},
   "outputs": [
    {
     "data": {
      "text/plain": [
       "<matplotlib.collections.PathCollection at 0x2c9cb6e08e0>"
      ]
     },
     "execution_count": 57,
     "metadata": {},
     "output_type": "execute_result"
    },
    {
     "data": {
      "image/png": "[encoded data removed]",
      "text/plain": [
       "<Figure size 432x288 with 1 Axes>"
      ]
     },
     "metadata": {
      "needs_background": "light"
     },
     "output_type": "display_data"
    }
   ],
   "source": [
    "plt.scatter(dat.salary,dat.etest_p) # ploting the scatter plot between 2 numeric variables to study the realtionship between them"
   ]
  },
  {
   "cell_type": "raw",
   "id": "20f27900",
   "metadata": {},
   "source": [
    "As we can see in plot there is no relation between etest_p and salary offered to candidate \n",
    "So, our assumption was wrong in this case "
   ]
  },
  {
   "cell_type": "markdown",
   "id": "2e9edca0",
   "metadata": {},
   "source": [
    "# Assumption-6"
   ]
  },
  {
   "cell_type": "markdown",
   "id": "edb3d86a",
   "metadata": {},
   "source": [
    "## Specialisation will have impact on placements and salary"
   ]
  },
  {
   "cell_type": "code",
   "execution_count": 87,
   "id": "9eaa4586",
   "metadata": {},
   "outputs": [
    {
     "data": {
      "text/plain": [
       "<AxesSubplot:xlabel='specialisation'>"
      ]
     },
     "execution_count": 87,
     "metadata": {},
     "output_type": "execute_result"
    },
    {
     "data": {
      "image/png": "[encoded data removed]",
      "text/plain": [
       "<Figure size 288x288 with 1 Axes>"
      ]
     },
     "metadata": {
      "needs_background": "light"
     },
     "output_type": "display_data"
    }
   ],
   "source": [
    "data[['salary','specialisation']].groupby(['specialisation']).mean().plot(kind='bar', figsize=(4,4), fontsize=12,rot=45)"
   ]
  },
  {
   "cell_type": "code",
   "execution_count": 86,
   "id": "d8b68f8c",
   "metadata": {},
   "outputs": [
    {
     "data": {
      "text/html": [
       "<div>\n",
       "<style scoped>\n",
       "    .dataframe tbody tr th:only-of-type {\n",
       "        vertical-align: middle;\n",
       "    }\n",
       "\n",
       "    .dataframe tbody tr th {\n",
       "        vertical-align: top;\n",
       "    }\n",
       "\n",
       "    .dataframe thead th {\n",
       "        text-align: right;\n",
       "    }\n",
       "</style>\n",
       "<table border=\"1\" class=\"dataframe\">\n",
       "  <thead>\n",
       "    <tr style=\"text-align: right;\">\n",
       "      <th>specialisation</th>\n",
       "      <th>Mkt&amp;Fin</th>\n",
       "      <th>Mkt&amp;HR</th>\n",
       "    </tr>\n",
       "    <tr>\n",
       "      <th>status</th>\n",
       "      <th></th>\n",
       "      <th></th>\n",
       "    </tr>\n",
       "  </thead>\n",
       "  <tbody>\n",
       "    <tr>\n",
       "      <th>Not Placed</th>\n",
       "      <td>25</td>\n",
       "      <td>42</td>\n",
       "    </tr>\n",
       "    <tr>\n",
       "      <th>Placed</th>\n",
       "      <td>95</td>\n",
       "      <td>53</td>\n",
       "    </tr>\n",
       "  </tbody>\n",
       "</table>\n",
       "</div>"
      ],
      "text/plain": [
       "specialisation  Mkt&Fin  Mkt&HR\n",
       "status                         \n",
       "Not Placed           25      42\n",
       "Placed               95      53"
      ]
     },
     "execution_count": 86,
     "metadata": {},
     "output_type": "execute_result"
    }
   ],
   "source": [
    "pd.crosstab(data.status,data.specialisation)"
   ]
  },
  {
   "cell_type": "markdown",
   "id": "a0b00c02",
   "metadata": {},
   "source": [
    "##### Chi square test of independence"
   ]
  },
  {
   "cell_type": "code",
   "execution_count": 89,
   "id": "a51c3a15",
   "metadata": {},
   "outputs": [
    {
     "name": "stdout",
     "output_type": "stream",
     "text": [
      "Chi_statistic value:  13.508014470676486\n",
      "Chi_critical value:  3.8414588206941285\n",
      "Placement status is dependent of MBA specialization\n"
     ]
    }
   ],
   "source": [
    "#From abpove visualization\n",
    "#Ho: Placement status is independent of MBA specialization\n",
    "#H1:Placement status is not independent of MBA specialization\n",
    "\n",
    "\n",
    "NP_Ob= [25,42]\n",
    "P_Ob= [95,53]\n",
    "NP_Total= 25+42\n",
    "P_Total = 95+53\n",
    "MF_Total = 25+95\n",
    "MHR_Total = 42+53\n",
    "Total = NP_Total + P_Total\n",
    "NP_Ex = [MF_Total*NP_Total/Total,MHR_Total*NP_Total/Total]\n",
    "P_Ex = [MF_Total*P_Total/Total,MHR_Total*P_Total/Total]\n",
    "\n",
    "#Observed & Expected values\n",
    "Observed = NP_Ob + P_Ob\n",
    "Expected = NP_Ex + P_Ex\n",
    "\n",
    "#Calculating Chi_sq_statistic\n",
    "chi_stat=0\n",
    "for i in range(len(Observed)):\n",
    "    a = (Expected[i]-Observed[i])**2/Expected[i]\n",
    "    chi_stat+=a\n",
    "\n",
    "#Calculating Chi_sq_critical\n",
    "alpha = 0.05\n",
    "n = 2\n",
    "c = 2\n",
    "chi_critical = stats.chi2.isf(alpha,df=(n-1)*(c-1))\n",
    "\n",
    "print(\"Chi_statistic value: \", chi_stat)\n",
    "print(\"Chi_critical value: \", chi_critical)\n",
    "\n",
    "if chi_stat > chi_critical:\n",
    "    print(\"Placement status is dependent of MBA specialization\")\n",
    "else:\n",
    "        print(\"Placement status is independent of MBA specialization\")"
   ]
  },
  {
   "cell_type": "code",
   "execution_count": 57,
   "id": "1edfd8c0",
   "metadata": {},
   "outputs": [],
   "source": [
    "#This shows that MBA Specialization impact the placement status."
   ]
  },
  {
   "cell_type": "markdown",
   "id": "8478f2ea",
   "metadata": {},
   "source": [
    "# Assumption-7"
   ]
  },
  {
   "cell_type": "markdown",
   "id": "811461e5",
   "metadata": {},
   "source": [
    "## Mba_p will have impact on placements and salary"
   ]
  },
  {
   "cell_type": "code",
   "execution_count": 74,
   "id": "d1ec902b",
   "metadata": {},
   "outputs": [
    {
     "data": {
      "text/plain": [
       "<AxesSubplot:xlabel='status'>"
      ]
     },
     "execution_count": 74,
     "metadata": {},
     "output_type": "execute_result"
    },
    {
     "data": {
      "image/png": "[encoded data removed]",
      "text/plain": [
       "<Figure size 288x288 with 1 Axes>"
      ]
     },
     "metadata": {
      "needs_background": "light"
     },
     "output_type": "display_data"
    }
   ],
   "source": [
    "data[['status','mba_p']].groupby(['status']).mean().plot(kind='bar', figsize=(4,4), fontsize=12,rot=45)"
   ]
  },
  {
   "cell_type": "raw",
   "id": "98070bbf",
   "metadata": {},
   "source": [
    "As there means are quite close for checking its actually different we need to hypothesis for difference in means\n",
    "ho: Diff in both pop means is 0\n",
    "h1: Diff in both means is not 0"
   ]
  },
  {
   "cell_type": "code",
   "execution_count": 78,
   "id": "3a95f9d1",
   "metadata": {},
   "outputs": [],
   "source": [
    "dat3=data[data.status=='Placed']\n",
    "dat4=data[data.status!='Placed']\n",
    "num=dat3['mba_p'].mean()-dat4['mba_p'].mean()\n",
    "den=np.var(dat3['mba_p'])/len(dat3)+np.var(dat4['mba_p'])/len(dat4)\n",
    "t_stat=num/den**0.5"
   ]
  },
  {
   "cell_type": "code",
   "execution_count": 79,
   "id": "c723a7c7",
   "metadata": {},
   "outputs": [
    {
     "data": {
      "text/plain": [
       "1.1462551656990212"
      ]
     },
     "execution_count": 79,
     "metadata": {},
     "output_type": "execute_result"
    }
   ],
   "source": [
    "t_stat"
   ]
  },
  {
   "cell_type": "raw",
   "id": "baf3332d",
   "metadata": {},
   "source": [
    "so we can't reject null hypothesis so means of mba marks of candidates placed and not placed are almost same"
   ]
  },
  {
   "cell_type": "code",
   "execution_count": 80,
   "id": "f4d19606",
   "metadata": {},
   "outputs": [
    {
     "data": {
      "text/plain": [
       "<matplotlib.collections.PathCollection at 0x2c9cb2cdbe0>"
      ]
     },
     "execution_count": 80,
     "metadata": {},
     "output_type": "execute_result"
    },
    {
     "data": {
      "image/png": "[encoded data removed]",
      "text/plain": [
       "<Figure size 432x288 with 1 Axes>"
      ]
     },
     "metadata": {
      "needs_background": "light"
     },
     "output_type": "display_data"
    }
   ],
   "source": [
    "plt.scatter(dat.mba_p,dat.salary)"
   ]
  },
  {
   "cell_type": "code",
   "execution_count": 88,
   "id": "2df64f5f",
   "metadata": {},
   "outputs": [],
   "source": [
    "#not much relation is observed in mba_p and salary"
   ]
  },
  {
   "cell_type": "markdown",
   "id": "d339d9ec",
   "metadata": {},
   "source": [
    "## Conclusion:"
   ]
  },
  {
   "cell_type": "markdown",
   "id": "54f07b3b",
   "metadata": {},
   "source": [
    "### Based on the various hypothesis tests we can conclude that salary of a student/candidate depends upon:\n",
    "- Gender\n",
    "- MBA Specialization (current course)\n",
    "- employability test %\n",
    "- It seems some 50% cutoff in hsc & ssc is there to be eligible for placemnets\n",
    "\n",
    "### & Salary doesn't depend upon:\n",
    "- SSC & HSC details\n",
    "- Work wxperience of a candidate\n",
    "- MBA marks\n"
   ]
  },
  {
   "cell_type": "code",
   "execution_count": null,
   "id": "f7fd2063",
   "metadata": {},
   "outputs": [],
   "source": []
  }
 ],
 "metadata": {
  "kernelspec": {
   "display_name": "Python 3 (ipykernel)",
   "language": "python",
   "name": "python3"
  },
  "language_info": {
   "codemirror_mode": {
    "name": "ipython",
    "version": 3
   },
   "file_extension": ".py",
   "mimetype": "text/x-python",
   "name": "python",
   "nbconvert_exporter": "python",
   "pygments_lexer": "ipython3",
   "version": "3.9.7"
  }
 },
 "nbformat": 4,
 "nbformat_minor": 5
}
